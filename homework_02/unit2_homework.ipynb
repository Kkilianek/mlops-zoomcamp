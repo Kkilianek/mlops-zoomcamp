{
 "cells": [
  {
   "metadata": {},
   "cell_type": "markdown",
   "source": [
    "Q3. Train a model with autolog\n",
    "\n",
    "We will train a RandomForestRegressor (from Scikit-Learn) on the taxi dataset.\n",
    "\n",
    "We have prepared the training script train.py for this exercise, which can be also found in the folder homework.\n",
    "\n",
    "The script will:\n",
    "\n",
    "    load the datasets produced by the previous step,\n",
    "    train the model on the training set,\n",
    "    calculate the RMSE score on the validation set.\n",
    "\n",
    "Your task is to modify the script to enable autologging with MLflow, execute the script and then launch the MLflow UI to check that the experiment run was properly tracked.\n",
    "\n",
    "Tip 1: don't forget to wrap the training code with a with mlflow.start_run(): statement as we showed in the videos.\n",
    "\n",
    "Tip 2: don't modify the hyperparameters of the model to make sure that the training will finish quickly.\n",
    "\n",
    "What is the value of the min_samples_split parameter:\n",
    "\n",
    "    2\n",
    "    4\n",
    "    8\n",
    "    10\n"
   ],
   "id": "8b2147c762ffbd26"
  },
  {
   "cell_type": "code",
   "id": "initial_id",
   "metadata": {
    "collapsed": true,
    "ExecuteTime": {
     "end_time": "2025-05-30T14:24:39.807844Z",
     "start_time": "2025-05-30T14:24:21.775277Z"
    }
   },
   "source": [
    "# Run the training script\n",
    "!python train.py"
   ],
   "outputs": [
    {
     "name": "stdout",
     "output_type": "stream",
     "text": [
      "RMSE: 5.431162180141208\r\n"
     ]
    }
   ],
   "execution_count": 1
  },
  {
   "metadata": {
    "ExecuteTime": {
     "end_time": "2025-05-30T14:24:41.509159Z",
     "start_time": "2025-05-30T14:24:39.890033Z"
    }
   },
   "cell_type": "code",
   "source": [
    "# get the value of the min_samples_split parameter from the logged parameters\n",
    "import mlflow\n",
    "\n",
    "experiment = mlflow.get_experiment_by_name(\"Default\")\n",
    "run = mlflow.search_runs(experiment_ids=experiment.experiment_id)\n",
    "min_samples_split = run['params.min_samples_split'][0]\n",
    "print(f\"min_samples_split: {min_samples_split}\")"
   ],
   "id": "938ec0cd32623d12",
   "outputs": [
    {
     "name": "stdout",
     "output_type": "stream",
     "text": [
      "min_samples_split: 2\n"
     ]
    }
   ],
   "execution_count": 2
  },
  {
   "metadata": {},
   "cell_type": "markdown",
   "source": [
    "Q4. Launch the tracking server locally\n",
    "\n",
    "Now we want to manage the entire lifecycle of our ML model. In this step, you'll need to launch a tracking server. This way we will also have access to the model registry.\n",
    "\n",
    "Your task is to:\n",
    "\n",
    "    launch the tracking server on your local machine,\n",
    "    select a SQLite db for the backend store and a folder called artifacts for the artifacts store.\n",
    "\n",
    "You should keep the tracking server running to work on the next two exercises that use the server.\n",
    "\n",
    "In addition to backend-store-uri, what else do you need to pass to properly configure the server?\n",
    "\n",
    "    default-artifact-root\n",
    "    serve-artifacts\n",
    "    artifacts-only\n",
    "    artifacts-destination\n"
   ],
   "id": "b295468a7225a42f"
  },
  {
   "metadata": {},
   "cell_type": "markdown",
   "source": "Answer: default-artifact-root",
   "id": "f503d9ff3e13a7c"
  },
  {
   "metadata": {},
   "cell_type": "markdown",
   "source": [
    "Q5. Tune model hyperparameters\n",
    "\n",
    "Now let's try to reduce the validation error by tuning the hyperparameters of the RandomForestRegressor using hyperopt. We have prepared the script hpo.py for this exercise.\n",
    "\n",
    "Your task is to modify the script hpo.py and make sure that the validation RMSE is logged to the tracking server for each run of the hyperparameter optimization (you will need to add a few lines of code to the objective function) and run the script without passing any parameters.\n",
    "\n",
    "After that, open UI and explore the runs from the experiment called random-forest-hyperopt to answer the question below.\n",
    "\n",
    "Note: Don't use autologging for this exercise.\n",
    "\n",
    "The idea is to just log the information that you need to answer the question below, including:\n",
    "\n",
    "    the list of hyperparameters that are passed to the objective function during the optimization,\n",
    "    the RMSE obtained on the validation set (February 2023 data).\n",
    "\n",
    "What's the best validation RMSE that you got?\n",
    "\n",
    "    4.817\n",
    "    5.335\n",
    "    5.818\n",
    "    6.336\n"
   ],
   "id": "b0976cad296b298c"
  },
  {
   "metadata": {
    "ExecuteTime": {
     "end_time": "2025-05-30T14:25:32.343685Z",
     "start_time": "2025-05-30T14:24:41.526718Z"
    }
   },
   "cell_type": "code",
   "source": [
    "# Run the hyperparameter optimization script\n",
    "!python hpo.py"
   ],
   "id": "184d67c9f7a0126e",
   "outputs": [
    {
     "name": "stdout",
     "output_type": "stream",
     "text": [
      "2025/05/30 16:24:44 INFO mlflow.tracking.fluent: Experiment with name 'random-forest-hyperopt' does not exist. Creating a new experiment.\r\n",
      "🏃 View run amusing-dog-356 at: http://127.0.0.1:5000/#/experiments/549583683325628373/runs/21829d7a2738451d885dee867009ea25\r\n",
      "\r\n",
      "🧪 View experiment at: http://127.0.0.1:5000/#/experiments/549583683325628373   \r\n",
      "\r\n",
      "🏃 View run upset-kite-477 at: http://127.0.0.1:5000/#/experiments/549583683325628373/runs/cdffa2c43b284806916661a2a9441acf\r\n",
      "\r\n",
      "🧪 View experiment at: http://127.0.0.1:5000/#/experiments/549583683325628373   \r\n",
      "\r\n",
      "🏃 View run clean-crab-346 at: http://127.0.0.1:5000/#/experiments/549583683325628373/runs/18b99d8b47ab4bceac6dc8ae32fe6549\r\n",
      "\r\n",
      "🧪 View experiment at: http://127.0.0.1:5000/#/experiments/549583683325628373   \r\n",
      "\r\n",
      "🏃 View run marvelous-bug-890 at: http://127.0.0.1:5000/#/experiments/549583683325628373/runs/d1e0ba64d13e475a8b296eb05c9893bf\r\n",
      "\r\n",
      "🧪 View experiment at: http://127.0.0.1:5000/#/experiments/549583683325628373   \r\n",
      "\r\n",
      "🏃 View run trusting-bat-859 at: http://127.0.0.1:5000/#/experiments/549583683325628373/runs/f3868fba4be54f04b6afd10e73f30aa0\r\n",
      "\r\n",
      "🧪 View experiment at: http://127.0.0.1:5000/#/experiments/549583683325628373   \r\n",
      "\r\n",
      "🏃 View run aged-perch-889 at: http://127.0.0.1:5000/#/experiments/549583683325628373/runs/eab56b800f3d4357a610656ff94fb429\r\n",
      "\r\n",
      "🧪 View experiment at: http://127.0.0.1:5000/#/experiments/549583683325628373   \r\n",
      "\r\n",
      "🏃 View run intelligent-fawn-516 at: http://127.0.0.1:5000/#/experiments/549583683325628373/runs/9bed7b2aae5a4d37b62dd4f9ca5fc3d3\r\n",
      "\r\n",
      "🧪 View experiment at: http://127.0.0.1:5000/#/experiments/549583683325628373   \r\n",
      "\r\n",
      "🏃 View run crawling-carp-262 at: http://127.0.0.1:5000/#/experiments/549583683325628373/runs/ee348c959ee94b9e8a4327fc87f9a154\r\n",
      "\r\n",
      "🧪 View experiment at: http://127.0.0.1:5000/#/experiments/549583683325628373   \r\n",
      "\r\n",
      "🏃 View run thoughtful-crane-288 at: http://127.0.0.1:5000/#/experiments/549583683325628373/runs/63835128a28641e0ab331fc3a773c96b\r\n",
      "\r\n",
      "🧪 View experiment at: http://127.0.0.1:5000/#/experiments/549583683325628373   \r\n",
      "\r\n",
      "🏃 View run fearless-frog-311 at: http://127.0.0.1:5000/#/experiments/549583683325628373/runs/bf328e5e9bc94b49a3c306fdc93e17af\r\n",
      "\r\n",
      "🧪 View experiment at: http://127.0.0.1:5000/#/experiments/549583683325628373   \r\n",
      "\r\n",
      "🏃 View run peaceful-hare-410 at: http://127.0.0.1:5000/#/experiments/549583683325628373/runs/497f6c3235954adab03d053d7863185c\r\n",
      "\r\n",
      "🧪 View experiment at: http://127.0.0.1:5000/#/experiments/549583683325628373   \r\n",
      "\r\n",
      "🏃 View run brawny-finch-798 at: http://127.0.0.1:5000/#/experiments/549583683325628373/runs/4556f94d4dc64baa83789369720ea7f7\r\n",
      "\r\n",
      "🧪 View experiment at: http://127.0.0.1:5000/#/experiments/549583683325628373   \r\n",
      "\r\n",
      "🏃 View run auspicious-skunk-473 at: http://127.0.0.1:5000/#/experiments/549583683325628373/runs/f980d18bb845418d9ffa0ac43dbc4bc4\r\n",
      "\r\n",
      "🧪 View experiment at: http://127.0.0.1:5000/#/experiments/549583683325628373   \r\n",
      "\r\n",
      "🏃 View run glamorous-cat-761 at: http://127.0.0.1:5000/#/experiments/549583683325628373/runs/79a606f81c2d4a6ba14af6bdfcda75f8\r\n",
      "\r\n",
      "🧪 View experiment at: http://127.0.0.1:5000/#/experiments/549583683325628373   \r\n",
      "\r\n",
      "🏃 View run clean-shrike-853 at: http://127.0.0.1:5000/#/experiments/549583683325628373/runs/105a78a3bb6b47ab94e26aca98b8bccc\r\n",
      "\r\n",
      "🧪 View experiment at: http://127.0.0.1:5000/#/experiments/549583683325628373   \r\n",
      "\r\n",
      "100%|██████████| 15/15 [00:47<00:00,  3.18s/trial, best loss: 5.335419588556921]\r\n",
      "🏃 View run grandiose-slug-246 at: http://127.0.0.1:5000/#/experiments/549583683325628373/runs/2ba41b372ade40f09a51ae58956fd5df\r\n",
      "🧪 View experiment at: http://127.0.0.1:5000/#/experiments/549583683325628373\r\n"
     ]
    }
   ],
   "execution_count": 3
  },
  {
   "metadata": {
    "ExecuteTime": {
     "end_time": "2025-05-30T14:26:09.347802Z",
     "start_time": "2025-05-30T14:26:09.324336Z"
    }
   },
   "cell_type": "code",
   "source": [
    "# Find the best validation RMSE from the logged runs\n",
    "import mlflow\n",
    "\n",
    "experiment = mlflow.get_experiment_by_name(\"random-forest-hyperopt\")\n",
    "runs = mlflow.search_runs(experiment_ids=experiment.experiment_id)\n",
    "best_rmse = runs['metrics.validation_rmse'].min()\n",
    "print(f\"Best validation RMSE: {best_rmse:.3f}\")"
   ],
   "id": "9b1b05203a497ab0",
   "outputs": [
    {
     "name": "stdout",
     "output_type": "stream",
     "text": [
      "Best validation RMSE: 5.335\n"
     ]
    }
   ],
   "execution_count": 6
  },
  {
   "metadata": {},
   "cell_type": "code",
   "source": [
    "experiments = mlflow.search_experiments()\n",
    "for exp in experiments:\n",
    "    print(\n",
    "        f\"Experiment ID: {exp.experiment_id}, Name: {exp.name}, Artifact Location: {exp.artifact_location}\")"
   ],
   "id": "6d67d68738ee4fef",
   "outputs": [],
   "execution_count": null
  },
  {
   "metadata": {},
   "cell_type": "markdown",
   "source": [
    "Q6. Promote the best model to the model registry\n",
    "\n",
    "The results from the hyperparameter optimization are quite good. So, we can assume that we are ready to test some of these models in production. In this exercise, you'll promote the best model to the model registry. We have prepared a script called register_model.py, which will check the results from the previous step and select the top 5 runs. After that, it will calculate the RMSE of those models on the test set (March 2023 data) and save the results to a new experiment called random-forest-best-models.\n",
    "\n",
    "Your task is to update the script register_model.py so that it selects the model with the lowest RMSE on the test set and registers it to the model registry.\n",
    "\n",
    "Tip 1: you can use the method search_runs from the MlflowClient to get the model with the lowest RMSE,\n",
    "\n",
    "Tip 2: to register the model you can use the method mlflow.register_model and you will need to pass the right model_uri in the form of a string that looks like this: \"runs:/<RUN_ID>/model\", and the name of the model (make sure to choose a good one!).\n",
    "\n",
    "What is the test RMSE of the best model?\n",
    "\n",
    "    5.060\n",
    "    5.567\n",
    "    6.061\n",
    "    6.568\n",
    "\n"
   ],
   "id": "9721a6eaf798af07"
  },
  {
   "metadata": {
    "ExecuteTime": {
     "end_time": "2025-05-30T14:29:07.986696Z",
     "start_time": "2025-05-30T14:28:22.112646Z"
    }
   },
   "cell_type": "code",
   "source": [
    "# Run the script to register the best model\n",
    "!python register_model.py"
   ],
   "id": "475244b76dff9b2",
   "outputs": [
    {
     "name": "stdout",
     "output_type": "stream",
     "text": [
      "2025/05/30 16:28:24 INFO mlflow.tracking.fluent: Experiment with name 'random-forest-best-models' does not exist. Creating a new experiment.\r\n",
      "🏃 View run upset-mouse-756 at: http://127.0.0.1:5000/#/experiments/679606160065087578/runs/192f671a6e5a40439ae33dd3f91a60f7\r\n",
      "🧪 View experiment at: http://127.0.0.1:5000/#/experiments/679606160065087578\r\n",
      "🏃 View run unruly-koi-142 at: http://127.0.0.1:5000/#/experiments/679606160065087578/runs/a92f3768958a484db03bcfd7e7e28d10\r\n",
      "🧪 View experiment at: http://127.0.0.1:5000/#/experiments/679606160065087578\r\n",
      "🏃 View run gifted-zebra-804 at: http://127.0.0.1:5000/#/experiments/679606160065087578/runs/edcccbc022d74292890be40b9ff7500e\r\n",
      "🧪 View experiment at: http://127.0.0.1:5000/#/experiments/679606160065087578\r\n",
      "🏃 View run nebulous-foal-560 at: http://127.0.0.1:5000/#/experiments/679606160065087578/runs/5cdff8ffab154fc5b93b51e6e43b82e2\r\n",
      "🧪 View experiment at: http://127.0.0.1:5000/#/experiments/679606160065087578\r\n",
      "🏃 View run nervous-mole-490 at: http://127.0.0.1:5000/#/experiments/679606160065087578/runs/3d2874593de94ac3b24fe47f4feb90cb\r\n",
      "🧪 View experiment at: http://127.0.0.1:5000/#/experiments/679606160065087578\r\n",
      "Najlepszy model ma test RMSE: 5.567408012462019\r\n",
      "Successfully registered model 'nyc-taxi-regressor'.\r\n",
      "2025/05/30 16:29:07 INFO mlflow.store.model_registry.abstract_store: Waiting up to 300 seconds for model version to finish creation. Model name: nyc-taxi-regressor, version 1\r\n",
      "Created version '1' of model 'nyc-taxi-regressor'.\r\n"
     ]
    }
   ],
   "execution_count": 7
  },
  {
   "metadata": {
    "ExecuteTime": {
     "end_time": "2025-05-30T14:30:13.245433Z",
     "start_time": "2025-05-30T14:30:13.225407Z"
    }
   },
   "cell_type": "code",
   "source": [
    "# Check what is the best model's RMSE\n",
    "import mlflow\n",
    "\n",
    "experiment = mlflow.get_experiment_by_name(\"random-forest-best-models\")\n",
    "runs = mlflow.search_runs(experiment_ids=experiment.experiment_id)\n",
    "best_rmse = runs['metrics.test_rmse'].min()\n",
    "print(f\"Best test RMSE: {best_rmse:.3f}\")"
   ],
   "id": "710a3f7a5ac099f6",
   "outputs": [
    {
     "name": "stdout",
     "output_type": "stream",
     "text": [
      "Best test RMSE: 5.567\n"
     ]
    }
   ],
   "execution_count": 8
  }
 ],
 "metadata": {
  "kernelspec": {
   "display_name": "Python 3",
   "language": "python",
   "name": "python3"
  },
  "language_info": {
   "codemirror_mode": {
    "name": "ipython",
    "version": 2
   },
   "file_extension": ".py",
   "mimetype": "text/x-python",
   "name": "python",
   "nbconvert_exporter": "python",
   "pygments_lexer": "ipython2",
   "version": "2.7.6"
  }
 },
 "nbformat": 4,
 "nbformat_minor": 5
}
